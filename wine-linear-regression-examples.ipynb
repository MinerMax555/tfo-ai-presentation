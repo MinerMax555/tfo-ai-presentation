{
 "cells": [
  {
   "cell_type": "code",
   "id": "initial_id",
   "metadata": {
    "collapsed": true,
    "ExecuteTime": {
     "end_time": "2025-02-11T12:08:40.446559Z",
     "start_time": "2025-02-11T12:08:40.443791Z"
    }
   },
   "source": [
    "from pathlib import Path\n",
    "\n",
    "from matplotlib.colors import ListedColormap\n",
    "from sklearn import datasets\n",
    "import matplotlib.pyplot as plt\n",
    "from sklearn.inspection import DecisionBoundaryDisplay\n",
    "from sklearn.linear_model import LinearRegression, LogisticRegression\n",
    "import numpy as np\n",
    "from sklearn.model_selection import train_test_split\n",
    "from sklearn.pipeline import make_pipeline"
   ],
   "outputs": [],
   "execution_count": 5
  },
  {
   "metadata": {
    "ExecuteTime": {
     "end_time": "2025-02-11T12:08:40.495716Z",
     "start_time": "2025-02-11T12:08:40.491052Z"
    }
   },
   "cell_type": "code",
   "source": [
    "# Set the folder path to save the figures to\n",
    "IMG_FOLDER = Path('img')\n",
    "plt.style.use('dark_background')\n",
    "plt.ion()"
   ],
   "id": "39bfdcdcc6abec63",
   "outputs": [
    {
     "data": {
      "text/plain": [
       "<contextlib.ExitStack at 0x75b802baa0d0>"
      ]
     },
     "execution_count": 6,
     "metadata": {},
     "output_type": "execute_result"
    }
   ],
   "execution_count": 6
  },
  {
   "metadata": {
    "ExecuteTime": {
     "end_time": "2025-02-11T12:08:40.606583Z",
     "start_time": "2025-02-11T12:08:40.600075Z"
    }
   },
   "cell_type": "code",
   "source": [
    "X, labels = datasets.load_wine(return_X_y=True, as_frame=True)\n",
    "\n",
    "alcohol = X.alcohol\n",
    "color_intensity = X.color_intensity"
   ],
   "id": "ed48d725ba5118e5",
   "outputs": [],
   "execution_count": 7
  },
  {
   "metadata": {
    "ExecuteTime": {
     "end_time": "2025-02-11T12:16:36.774186Z",
     "start_time": "2025-02-11T12:16:21.159524Z"
    }
   },
   "cell_type": "code",
   "source": [
    "for a in (0, 0.03, 0.06, 0.12, 0.15, 0.18, 0.21, 0.24, 0.27, 0.3):\n",
    "    for b in (0, 3, 6, 9, 12, 15):\n",
    "        print(f'{a};{b}')\n",
    "        alcohol_pred = a * color_intensity + b\n",
    "\n",
    "        fig, ax = plt.subplots()\n",
    "        fig.set_size_inches(16, 9)\n",
    "\n",
    "        # plot alcohol against color_intensity\n",
    "        ax.set_title('Wine samples - Alcohol vs Color Intensity')\n",
    "        ax.set_xlabel('Color Intensity')\n",
    "        ax.set_ylabel('Alcohol (Vol. %)')\n",
    "        ax.scatter(color_intensity, alcohol, label='Samples')\n",
    "        ax.plot(color_intensity, alcohol_pred, color='red',\n",
    "                label=f'y = {a} * color_intensity + {b}')\n",
    "\n",
    "        # plot the distance between the points and the regression line\n",
    "        for i in range(len(color_intensity)):\n",
    "            ax.plot([color_intensity[i], color_intensity[i]], [alcohol[i], alcohol_pred[i]], color='gray', linestyle='-')\n",
    "\n",
    "        loss = np.abs(alcohol - alcohol_pred).sum()\n",
    "        fig.suptitle(f'Loss: {loss:.2f}', fontsize=18)\n",
    "\n",
    "        ax.legend()\n",
    "        plt.tight_layout()\n",
    "        plt.savefig(IMG_FOLDER / 'regression_examples' / f'wine_linear_regression__a_{a}_b_{b}.png')\n",
    "        plt.close()"
   ],
   "id": "301e894f0f8cf01f",
   "outputs": [
    {
     "name": "stdout",
     "output_type": "stream",
     "text": [
      "0;0\n",
      "0;3\n",
      "0;6\n",
      "0;9\n",
      "0;12\n",
      "0;15\n",
      "0.03;0\n",
      "0.03;3\n",
      "0.03;6\n",
      "0.03;9\n",
      "0.03;12\n",
      "0.03;15\n",
      "0.06;0\n",
      "0.06;3\n",
      "0.06;6\n",
      "0.06;9\n",
      "0.06;12\n",
      "0.06;15\n",
      "0.12;0\n",
      "0.12;3\n",
      "0.12;6\n",
      "0.12;9\n",
      "0.12;12\n",
      "0.12;15\n",
      "0.15;0\n",
      "0.15;3\n",
      "0.15;6\n",
      "0.15;9\n",
      "0.15;12\n",
      "0.15;15\n",
      "0.18;0\n",
      "0.18;3\n",
      "0.18;6\n",
      "0.18;9\n",
      "0.18;12\n",
      "0.18;15\n",
      "0.21;0\n",
      "0.21;3\n",
      "0.21;6\n",
      "0.21;9\n",
      "0.21;12\n",
      "0.21;15\n",
      "0.24;0\n",
      "0.24;3\n",
      "0.24;6\n",
      "0.24;9\n",
      "0.24;12\n",
      "0.24;15\n",
      "0.27;0\n",
      "0.27;3\n",
      "0.27;6\n",
      "0.27;9\n",
      "0.27;12\n",
      "0.27;15\n",
      "0.3;0\n",
      "0.3;3\n",
      "0.3;6\n",
      "0.3;9\n",
      "0.3;12\n",
      "0.3;15\n"
     ]
    }
   ],
   "execution_count": 23
  }
 ],
 "metadata": {
  "kernelspec": {
   "display_name": "Python 3",
   "language": "python",
   "name": "python3"
  },
  "language_info": {
   "codemirror_mode": {
    "name": "ipython",
    "version": 2
   },
   "file_extension": ".py",
   "mimetype": "text/x-python",
   "name": "python",
   "nbconvert_exporter": "python",
   "pygments_lexer": "ipython2",
   "version": "2.7.6"
  }
 },
 "nbformat": 4,
 "nbformat_minor": 5
}
